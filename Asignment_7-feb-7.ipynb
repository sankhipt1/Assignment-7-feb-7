{
 "cells": [
  {
   "cell_type": "code",
   "execution_count": null,
   "id": "4dec271d-5154-4a48-90ea-204e9e4d9046",
   "metadata": {},
   "outputs": [],
   "source": [
    "Q1"
   ]
  },
  {
   "cell_type": "code",
   "execution_count": 1,
   "id": "132062d9-5cd1-46fe-9f9f-e0b8043f8b6b",
   "metadata": {},
   "outputs": [],
   "source": [
    "import re\n",
    "\n",
    "def check_password(password):\n",
    "    \n",
    "    # check length of password\n",
    "    if len(password) != 10:\n",
    "        return \"Invalid Password\"\n",
    "    \n",
    "    # check for upper case letters\n",
    "    uppercase_count = len(re.findall(r'[A-Z]', password))\n",
    "    if uppercase_count < 2:\n",
    "        return \"Invalid Password\"\n",
    "    \n",
    "    # check for lowercase Letters\n",
    "    lower_count = len(re.findall(r'[a-z]', password))\n",
    "    if lowercase_count < 2:\n",
    "        return \"Invalid Password\"\n",
    "    \n",
    "    # check for atleast one number\n",
    "    if not any(char.isdigit() for char in password):\n",
    "        return \"Invalid Password\"\n",
    "    \n",
    "    # check for atleast three special characters\n",
    "    special_count = len(re.findall(r'[!@#$%^&*(),.?\":{}|<>]', password))\n",
    "    if special_count < 3:\n",
    "        return \"Invalid Password\"\n",
    "    \n",
    "    #if all checks pass, password is valid\n",
    "    \n",
    "    return \"Valid Password\"\n",
    "        "
   ]
  },
  {
   "cell_type": "code",
   "execution_count": null,
   "id": "29c94082-9cea-407f-b296-085def9e32ee",
   "metadata": {},
   "outputs": [],
   "source": [
    "Q2"
   ]
  },
  {
   "cell_type": "code",
   "execution_count": 3,
   "id": "b900170b-8c68-4abc-9a11-5f789102e075",
   "metadata": {},
   "outputs": [
    {
     "name": "stdout",
     "output_type": "stream",
     "text": [
      "['goat', 'guava', 'grey']\n"
     ]
    }
   ],
   "source": [
    "string = [\"yak\", \"kiwi\", \"goat\", \"guava\", \"apple\", \"grey\"]\n",
    "\n",
    "filtered_string = filter(lambda s: s.startswith('g'), string)\n",
    "\n",
    "print(list(filtered_string))"
   ]
  },
  {
   "cell_type": "code",
   "execution_count": 4,
   "id": "d11e7e4b-09a5-4a6a-ab6e-d3172e740e60",
   "metadata": {},
   "outputs": [
    {
     "name": "stdout",
     "output_type": "stream",
     "text": [
      "['423', '654', '542']\n"
     ]
    }
   ],
   "source": [
    "string = [\"423\", \"gde\", \"fds\", \"654\", \"542\"]\n",
    "\n",
    "numeric_string = filter(lambda s: s.isnumeric(), string)\n",
    "\n",
    "print(list(numeric_string))"
   ]
  },
  {
   "cell_type": "code",
   "execution_count": 7,
   "id": "ed9fe274-ef61-4be3-a4db-ada5ebe05c4e",
   "metadata": {},
   "outputs": [
    {
     "name": "stdout",
     "output_type": "stream",
     "text": [
      "[('orange', 80), ('mango', 99), ('grapes', 1000)]\n"
     ]
    }
   ],
   "source": [
    "fruits = [(\"mango\", 99), (\"orange\", 80), (\"grapes\", 1000)]\n",
    "\n",
    "sorted_fruits = sorted(fruits, key=lambda x: x[1])\n",
    "\n",
    "print(sorted_fruits)"
   ]
  },
  {
   "cell_type": "code",
   "execution_count": 9,
   "id": "28908a88-1296-499f-851c-842d6a1e7099",
   "metadata": {},
   "outputs": [
    {
     "name": "stdout",
     "output_type": "stream",
     "text": [
      "[1, 4, 9, 16, 25, 36, 49, 64, 81, 100]\n"
     ]
    }
   ],
   "source": [
    "squares = list(map(lambda x: x**2, range(1,11)))\n",
    "print(squares)"
   ]
  },
  {
   "cell_type": "code",
   "execution_count": 11,
   "id": "adb2a9e1-a35a-497e-9742-43f55deddd07",
   "metadata": {},
   "outputs": [
    {
     "name": "stdout",
     "output_type": "stream",
     "text": [
      "[1.0, 1.2599210498948732, 1.4422495703074083, 1.5874010519681994, 1.7099759466766968, 1.8171205928321397, 1.912931182772389, 2.0, 2.080083823051904, 2.154434690031884]\n"
     ]
    }
   ],
   "source": [
    "cube_roots = list(map(lambda x: x**(1/3), range(1,11)))\n",
    "print(cube_roots)"
   ]
  },
  {
   "cell_type": "code",
   "execution_count": 14,
   "id": "b6c784db-d3dd-4738-a0e8-cb7f585d08b0",
   "metadata": {},
   "outputs": [
    {
     "name": "stdout",
     "output_type": "stream",
     "text": [
      "8 is even\n"
     ]
    }
   ],
   "source": [
    "number = 8\n",
    "is_even = list(filter(lambda x: x%2 ==0, [number]))\n",
    "\n",
    "if is_even:\n",
    "    print(f\"{number} is even\")\n",
    "else:\n",
    "    print(f\"{number} is odd\")"
   ]
  },
  {
   "cell_type": "code",
   "execution_count": 15,
   "id": "d1e176e1-3b60-49ef-b7e6-b4428f69ad3e",
   "metadata": {},
   "outputs": [
    {
     "name": "stdout",
     "output_type": "stream",
     "text": [
      "[1, 3, 5, 7, 9]\n"
     ]
    }
   ],
   "source": [
    "l = [1,2,3,4,5,6,7,8,9,10]\n",
    "\n",
    "is_odd = list(filter(lambda x: x%2 != 0, l))\n",
    "\n",
    "print(is_odd)"
   ]
  },
  {
   "cell_type": "code",
   "execution_count": 16,
   "id": "50ae9292-78e6-4023-94db-6234dd4dcb86",
   "metadata": {},
   "outputs": [
    {
     "name": "stdout",
     "output_type": "stream",
     "text": [
      "positive numbers: [1, 2, 3, 4, 5, 6]\n",
      "negative numbers: [-1, -2, -3, -4, -5]\n"
     ]
    }
   ],
   "source": [
    "numbers = [1,2,3,4,5,6,-1,-2,-3,-4,-5,0]\n",
    "positive_numbers = list(filter(lambda x: x>0, numbers))\n",
    "negative_numbers = list(filter(lambda x: x<0, numbers))\n",
    "\n",
    "print(\"positive numbers:\", positive_numbers)\n",
    "print(\"negative numbers:\", negative_numbers)"
   ]
  },
  {
   "cell_type": "code",
   "execution_count": null,
   "id": "2797048b-c0f6-4ade-8d67-9795f9f63993",
   "metadata": {},
   "outputs": [],
   "source": []
  }
 ],
 "metadata": {
  "kernelspec": {
   "display_name": "Python 3 (ipykernel)",
   "language": "python",
   "name": "python3"
  },
  "language_info": {
   "codemirror_mode": {
    "name": "ipython",
    "version": 3
   },
   "file_extension": ".py",
   "mimetype": "text/x-python",
   "name": "python",
   "nbconvert_exporter": "python",
   "pygments_lexer": "ipython3",
   "version": "3.10.6"
  }
 },
 "nbformat": 4,
 "nbformat_minor": 5
}
